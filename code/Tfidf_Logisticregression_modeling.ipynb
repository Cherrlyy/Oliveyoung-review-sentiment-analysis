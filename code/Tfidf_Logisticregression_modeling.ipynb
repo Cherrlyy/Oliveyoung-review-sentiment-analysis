{
 "cells": [
  {
   "cell_type": "markdown",
   "metadata": {},
   "source": [
    "### 시각화"
   ]
  },
  {
   "cell_type": "code",
   "execution_count": 78,
   "metadata": {},
   "outputs": [],
   "source": [
    "# count_and_plot 그리기 함수\n",
    "from collections import Counter\n",
    "from matplotlib import pyplot\n",
    "def count_and_plot(y):\n",
    "    counter = Counter(y)\n",
    "    for k,v in counter.items():\n",
    "        print('Class=%d, n=%d (%.3f%%)'%(k,v,v / len(y) * 100))\n",
    "    pyplot.bar(counter.keys(), counter.values())\n",
    "    pyplot.show()"
   ]
  },
  {
   "cell_type": "markdown",
   "metadata": {},
   "source": [
    "### 여기부터"
   ]
  },
  {
   "cell_type": "code",
   "execution_count": 68,
   "metadata": {},
   "outputs": [],
   "source": [
    "import pandas as pd\n",
    "import numpy as np\n",
    "import re\n",
    "from sklearn.model_selection import train_test_split\n",
    "from sklearn.feature_extraction.text import TfidfVectorizer\n",
    "from sklearn.linear_model import LogisticRegression\n",
    "from sklearn.metrics import accuracy_score, classification_report\n",
    "from sklearn.pipeline import Pipeline\n",
    "from imblearn.under_sampling import RandomUnderSampler\n",
    "from imblearn.over_sampling import SMOTE"
   ]
  },
  {
   "cell_type": "code",
   "execution_count": 69,
   "metadata": {},
   "outputs": [
    {
     "data": {
      "text/html": [
       "<div>\n",
       "<style scoped>\n",
       "    .dataframe tbody tr th:only-of-type {\n",
       "        vertical-align: middle;\n",
       "    }\n",
       "\n",
       "    .dataframe tbody tr th {\n",
       "        vertical-align: top;\n",
       "    }\n",
       "\n",
       "    .dataframe thead th {\n",
       "        text-align: right;\n",
       "    }\n",
       "</style>\n",
       "<table border=\"1\" class=\"dataframe\">\n",
       "  <thead>\n",
       "    <tr style=\"text-align: right;\">\n",
       "      <th></th>\n",
       "      <th>id</th>\n",
       "      <th>name</th>\n",
       "      <th>date</th>\n",
       "      <th>content</th>\n",
       "    </tr>\n",
       "  </thead>\n",
       "  <tbody>\n",
       "    <tr>\n",
       "      <th>0</th>\n",
       "      <td>A000000192697</td>\n",
       "      <td>[2023어워즈/3년연속] 아누아 어성초 77 수딩 토너 350ml 어워즈 한정 기...</td>\n",
       "      <td>2023.11.30</td>\n",
       "      <td>피부타입 : 복합성요 토너 없이는 못살아요겨울 강철 추위도 버티게 해주는 저의 최애...</td>\n",
       "    </tr>\n",
       "    <tr>\n",
       "      <th>1</th>\n",
       "      <td>A000000192697</td>\n",
       "      <td>[2023어워즈/3년연속] 아누아 어성초 77 수딩 토너 350ml 어워즈 한정 기...</td>\n",
       "      <td>2023.11.28</td>\n",
       "      <td>다른 토너로 갈아탔다가 환절기 때 피부가 뒤집어지고 너무 안 돌아와서 다시 구매합니...</td>\n",
       "    </tr>\n",
       "    <tr>\n",
       "      <th>2</th>\n",
       "      <td>A000000192697</td>\n",
       "      <td>[2023어워즈/3년연속] 아누아 어성초 77 수딩 토너 350ml 어워즈 한정 기...</td>\n",
       "      <td>2023.11.26</td>\n",
       "      <td>전 이거 하나로 흡토, 닦토 다 하고 있어요 자극없이 순하고 용량도 많아서 밤마다 ...</td>\n",
       "    </tr>\n",
       "    <tr>\n",
       "      <th>3</th>\n",
       "      <td>A000000192697</td>\n",
       "      <td>[2023어워즈/3년연속] 아누아 어성초 77 수딩 토너 350ml 어워즈 한정 기...</td>\n",
       "      <td>2023.11.19</td>\n",
       "      <td>자극없이 순하고 결 정돈하기 좋은 토너예요👍🏻민감성 지성 복합성 다 두루 쓰기 좋아요</td>\n",
       "    </tr>\n",
       "    <tr>\n",
       "      <th>4</th>\n",
       "      <td>A000000192697</td>\n",
       "      <td>[2023어워즈/3년연속] 아누아 어성초 77 수딩 토너 350ml 어워즈 한정 기...</td>\n",
       "      <td>2023.11.11</td>\n",
       "      <td>이제는 제 화장대에 없는게 말이 안되는 재구매템정말이지 공병만 몇 십병 만들었을거에...</td>\n",
       "    </tr>\n",
       "    <tr>\n",
       "      <th>...</th>\n",
       "      <td>...</td>\n",
       "      <td>...</td>\n",
       "      <td>...</td>\n",
       "      <td>...</td>\n",
       "    </tr>\n",
       "    <tr>\n",
       "      <th>33595</th>\n",
       "      <td>A000000139057</td>\n",
       "      <td>아벤느 이드랑스 딥 모이스트로션 200ml</td>\n",
       "      <td>2021.01.24</td>\n",
       "      <td>후기보고 살짝 콧물 스킨토너 좀 점성이 있는줄 알았는데 막상 받아보니 아주 살짝있어...</td>\n",
       "    </tr>\n",
       "    <tr>\n",
       "      <th>33596</th>\n",
       "      <td>A000000139057</td>\n",
       "      <td>아벤느 이드랑스 딥 모이스트로션 200ml</td>\n",
       "      <td>2021.01.22</td>\n",
       "      <td>토너를 오래 찾던 중에 겨울에 쓸만한게 이 제품이 딱이더라구요! 저는 겨울되면 얼굴...</td>\n",
       "    </tr>\n",
       "    <tr>\n",
       "      <th>33597</th>\n",
       "      <td>A000000139057</td>\n",
       "      <td>아벤느 이드랑스 딥 모이스트로션 200ml</td>\n",
       "      <td>2021.01.22</td>\n",
       "      <td>속당김이 엄청 심한편이라 수분크림 . 에센스를 발라도 겨울엔 겉에만 유분기가있지 수...</td>\n",
       "    </tr>\n",
       "    <tr>\n",
       "      <th>33598</th>\n",
       "      <td>A000000139057</td>\n",
       "      <td>아벤느 이드랑스 딥 모이스트로션 200ml</td>\n",
       "      <td>2021.01.11</td>\n",
       "      <td>수부지 피부, 지성피부에 아벤느 제품이 좋다고해서 처음 구매해봤는데 타 제품들과 달...</td>\n",
       "    </tr>\n",
       "    <tr>\n",
       "      <th>33599</th>\n",
       "      <td>A000000139057</td>\n",
       "      <td>아벤느 이드랑스 딥 모이스트로션 200ml</td>\n",
       "      <td>2021.01.10</td>\n",
       "      <td>제 피부는 극건성이라ㅠ 왠만한 토너들은 건조한 편이에요ㅠ 그렇다고 크림 스킨을 쓰면...</td>\n",
       "    </tr>\n",
       "  </tbody>\n",
       "</table>\n",
       "<p>33600 rows × 4 columns</p>\n",
       "</div>"
      ],
      "text/plain": [
       "                  id                                               name  \\\n",
       "0      A000000192697  [2023어워즈/3년연속] 아누아 어성초 77 수딩 토너 350ml 어워즈 한정 기...   \n",
       "1      A000000192697  [2023어워즈/3년연속] 아누아 어성초 77 수딩 토너 350ml 어워즈 한정 기...   \n",
       "2      A000000192697  [2023어워즈/3년연속] 아누아 어성초 77 수딩 토너 350ml 어워즈 한정 기...   \n",
       "3      A000000192697  [2023어워즈/3년연속] 아누아 어성초 77 수딩 토너 350ml 어워즈 한정 기...   \n",
       "4      A000000192697  [2023어워즈/3년연속] 아누아 어성초 77 수딩 토너 350ml 어워즈 한정 기...   \n",
       "...              ...                                                ...   \n",
       "33595  A000000139057                            아벤느 이드랑스 딥 모이스트로션 200ml   \n",
       "33596  A000000139057                            아벤느 이드랑스 딥 모이스트로션 200ml   \n",
       "33597  A000000139057                            아벤느 이드랑스 딥 모이스트로션 200ml   \n",
       "33598  A000000139057                            아벤느 이드랑스 딥 모이스트로션 200ml   \n",
       "33599  A000000139057                            아벤느 이드랑스 딥 모이스트로션 200ml   \n",
       "\n",
       "             date                                            content  \n",
       "0      2023.11.30  피부타입 : 복합성요 토너 없이는 못살아요겨울 강철 추위도 버티게 해주는 저의 최애...  \n",
       "1      2023.11.28  다른 토너로 갈아탔다가 환절기 때 피부가 뒤집어지고 너무 안 돌아와서 다시 구매합니...  \n",
       "2      2023.11.26  전 이거 하나로 흡토, 닦토 다 하고 있어요 자극없이 순하고 용량도 많아서 밤마다 ...  \n",
       "3      2023.11.19    자극없이 순하고 결 정돈하기 좋은 토너예요👍🏻민감성 지성 복합성 다 두루 쓰기 좋아요  \n",
       "4      2023.11.11  이제는 제 화장대에 없는게 말이 안되는 재구매템정말이지 공병만 몇 십병 만들었을거에...  \n",
       "...           ...                                                ...  \n",
       "33595  2021.01.24  후기보고 살짝 콧물 스킨토너 좀 점성이 있는줄 알았는데 막상 받아보니 아주 살짝있어...  \n",
       "33596  2021.01.22  토너를 오래 찾던 중에 겨울에 쓸만한게 이 제품이 딱이더라구요! 저는 겨울되면 얼굴...  \n",
       "33597  2021.01.22  속당김이 엄청 심한편이라 수분크림 . 에센스를 발라도 겨울엔 겉에만 유분기가있지 수...  \n",
       "33598  2021.01.11  수부지 피부, 지성피부에 아벤느 제품이 좋다고해서 처음 구매해봤는데 타 제품들과 달...  \n",
       "33599  2021.01.10  제 피부는 극건성이라ㅠ 왠만한 토너들은 건조한 편이에요ㅠ 그렇다고 크림 스킨을 쓰면...  \n",
       "\n",
       "[33600 rows x 4 columns]"
      ]
     },
     "execution_count": 69,
     "metadata": {},
     "output_type": "execute_result"
    }
   ],
   "source": [
    "review = pd.read_csv(\"../review.csv\", encoding=\"UTF-8\")\n",
    "review"
   ]
  },
  {
   "cell_type": "code",
   "execution_count": 72,
   "metadata": {
    "scrolled": false
   },
   "outputs": [
    {
     "data": {
      "text/html": [
       "<div>\n",
       "<style scoped>\n",
       "    .dataframe tbody tr th:only-of-type {\n",
       "        vertical-align: middle;\n",
       "    }\n",
       "\n",
       "    .dataframe tbody tr th {\n",
       "        vertical-align: top;\n",
       "    }\n",
       "\n",
       "    .dataframe thead th {\n",
       "        text-align: right;\n",
       "    }\n",
       "</style>\n",
       "<table border=\"1\" class=\"dataframe\">\n",
       "  <thead>\n",
       "    <tr style=\"text-align: right;\">\n",
       "      <th></th>\n",
       "      <th>id</th>\n",
       "      <th>name</th>\n",
       "      <th>date</th>\n",
       "      <th>content</th>\n",
       "    </tr>\n",
       "  </thead>\n",
       "  <tbody>\n",
       "    <tr>\n",
       "      <th>0</th>\n",
       "      <td>A000000192697</td>\n",
       "      <td>[2023어워즈/3년연속] 아누아 어성초 77 수딩 토너 350ml 어워즈 한정 기...</td>\n",
       "      <td>2023.11.30</td>\n",
       "      <td>피부타입  복합성요 토너 없이는 못살아요겨울 강철 추위도 버티게 해주는 저의 최애템...</td>\n",
       "    </tr>\n",
       "    <tr>\n",
       "      <th>1</th>\n",
       "      <td>A000000192697</td>\n",
       "      <td>[2023어워즈/3년연속] 아누아 어성초 77 수딩 토너 350ml 어워즈 한정 기...</td>\n",
       "      <td>2023.11.28</td>\n",
       "      <td>다른 토너로 갈아탔다가 환절기 때 피부가 뒤집어지고 너무 안 돌아와서 다시 구매합니...</td>\n",
       "    </tr>\n",
       "    <tr>\n",
       "      <th>2</th>\n",
       "      <td>A000000192697</td>\n",
       "      <td>[2023어워즈/3년연속] 아누아 어성초 77 수딩 토너 350ml 어워즈 한정 기...</td>\n",
       "      <td>2023.11.26</td>\n",
       "      <td>전 이거 하나로 흡토 닦토 다 하고 있어요 자극없이 순하고 용량도 많아서 밤마다 화...</td>\n",
       "    </tr>\n",
       "    <tr>\n",
       "      <th>3</th>\n",
       "      <td>A000000192697</td>\n",
       "      <td>[2023어워즈/3년연속] 아누아 어성초 77 수딩 토너 350ml 어워즈 한정 기...</td>\n",
       "      <td>2023.11.19</td>\n",
       "      <td>자극없이 순하고 결 정돈하기 좋은 토너예요민감성 지성 복합성 다 두루 쓰기 좋아요</td>\n",
       "    </tr>\n",
       "    <tr>\n",
       "      <th>4</th>\n",
       "      <td>A000000192697</td>\n",
       "      <td>[2023어워즈/3년연속] 아누아 어성초 77 수딩 토너 350ml 어워즈 한정 기...</td>\n",
       "      <td>2023.11.11</td>\n",
       "      <td>이제는 제 화장대에 없는게 말이 안되는 재구매템정말이지 공병만 몇 십병 만들었을거에...</td>\n",
       "    </tr>\n",
       "    <tr>\n",
       "      <th>...</th>\n",
       "      <td>...</td>\n",
       "      <td>...</td>\n",
       "      <td>...</td>\n",
       "      <td>...</td>\n",
       "    </tr>\n",
       "    <tr>\n",
       "      <th>32396</th>\n",
       "      <td>A000000139057</td>\n",
       "      <td>아벤느 이드랑스 딥 모이스트로션 200ml</td>\n",
       "      <td>2021.01.24</td>\n",
       "      <td>후기보고 살짝 콧물 스킨토너 좀 점성이 있는줄 알았는데 막상 받아보니 아주 살짝있어...</td>\n",
       "    </tr>\n",
       "    <tr>\n",
       "      <th>32397</th>\n",
       "      <td>A000000139057</td>\n",
       "      <td>아벤느 이드랑스 딥 모이스트로션 200ml</td>\n",
       "      <td>2021.01.22</td>\n",
       "      <td>토너를 오래 찾던 중에 겨울에 쓸만한게 이 제품이 딱이더라구요 저는 겨울되면 얼굴이...</td>\n",
       "    </tr>\n",
       "    <tr>\n",
       "      <th>32398</th>\n",
       "      <td>A000000139057</td>\n",
       "      <td>아벤느 이드랑스 딥 모이스트로션 200ml</td>\n",
       "      <td>2021.01.22</td>\n",
       "      <td>속당김이 엄청 심한편이라 수분크림  에센스를 발라도 겨울엔 겉에만 유분기가있지 수분...</td>\n",
       "    </tr>\n",
       "    <tr>\n",
       "      <th>32399</th>\n",
       "      <td>A000000139057</td>\n",
       "      <td>아벤느 이드랑스 딥 모이스트로션 200ml</td>\n",
       "      <td>2021.01.11</td>\n",
       "      <td>수부지 피부 지성피부에 아벤느 제품이 좋다고해서 처음 구매해봤는데 타 제품들과 달리...</td>\n",
       "    </tr>\n",
       "    <tr>\n",
       "      <th>32400</th>\n",
       "      <td>A000000139057</td>\n",
       "      <td>아벤느 이드랑스 딥 모이스트로션 200ml</td>\n",
       "      <td>2021.01.10</td>\n",
       "      <td>제 피부는 극건성이라 왠만한 토너들은 건조한 편이에요 그렇다고 크림 스킨을 쓰면 닥...</td>\n",
       "    </tr>\n",
       "  </tbody>\n",
       "</table>\n",
       "<p>32401 rows × 4 columns</p>\n",
       "</div>"
      ],
      "text/plain": [
       "                  id                                               name  \\\n",
       "0      A000000192697  [2023어워즈/3년연속] 아누아 어성초 77 수딩 토너 350ml 어워즈 한정 기...   \n",
       "1      A000000192697  [2023어워즈/3년연속] 아누아 어성초 77 수딩 토너 350ml 어워즈 한정 기...   \n",
       "2      A000000192697  [2023어워즈/3년연속] 아누아 어성초 77 수딩 토너 350ml 어워즈 한정 기...   \n",
       "3      A000000192697  [2023어워즈/3년연속] 아누아 어성초 77 수딩 토너 350ml 어워즈 한정 기...   \n",
       "4      A000000192697  [2023어워즈/3년연속] 아누아 어성초 77 수딩 토너 350ml 어워즈 한정 기...   \n",
       "...              ...                                                ...   \n",
       "32396  A000000139057                            아벤느 이드랑스 딥 모이스트로션 200ml   \n",
       "32397  A000000139057                            아벤느 이드랑스 딥 모이스트로션 200ml   \n",
       "32398  A000000139057                            아벤느 이드랑스 딥 모이스트로션 200ml   \n",
       "32399  A000000139057                            아벤느 이드랑스 딥 모이스트로션 200ml   \n",
       "32400  A000000139057                            아벤느 이드랑스 딥 모이스트로션 200ml   \n",
       "\n",
       "             date                                            content  \n",
       "0      2023.11.30  피부타입  복합성요 토너 없이는 못살아요겨울 강철 추위도 버티게 해주는 저의 최애템...  \n",
       "1      2023.11.28  다른 토너로 갈아탔다가 환절기 때 피부가 뒤집어지고 너무 안 돌아와서 다시 구매합니...  \n",
       "2      2023.11.26  전 이거 하나로 흡토 닦토 다 하고 있어요 자극없이 순하고 용량도 많아서 밤마다 화...  \n",
       "3      2023.11.19      자극없이 순하고 결 정돈하기 좋은 토너예요민감성 지성 복합성 다 두루 쓰기 좋아요  \n",
       "4      2023.11.11  이제는 제 화장대에 없는게 말이 안되는 재구매템정말이지 공병만 몇 십병 만들었을거에...  \n",
       "...           ...                                                ...  \n",
       "32396  2021.01.24  후기보고 살짝 콧물 스킨토너 좀 점성이 있는줄 알았는데 막상 받아보니 아주 살짝있어...  \n",
       "32397  2021.01.22  토너를 오래 찾던 중에 겨울에 쓸만한게 이 제품이 딱이더라구요 저는 겨울되면 얼굴이...  \n",
       "32398  2021.01.22  속당김이 엄청 심한편이라 수분크림  에센스를 발라도 겨울엔 겉에만 유분기가있지 수분...  \n",
       "32399  2021.01.11  수부지 피부 지성피부에 아벤느 제품이 좋다고해서 처음 구매해봤는데 타 제품들과 달리...  \n",
       "32400  2021.01.10  제 피부는 극건성이라 왠만한 토너들은 건조한 편이에요 그렇다고 크림 스킨을 쓰면 닥...  \n",
       "\n",
       "[32401 rows x 4 columns]"
      ]
     },
     "execution_count": 72,
     "metadata": {},
     "output_type": "execute_result"
    }
   ],
   "source": [
    "review[\"content\"] = review[\"content\"].replace('', np.NaN)\n",
    "\n",
    "non_kor_chars = re.compile('[^ 가-힣]')\n",
    "review[\"content\"] = review[\"content\"].str.replace(pat=r'[^ 가-힣]', repl=r'', regex=True)\n",
    "review = review.dropna()\n",
    "review = review.reset_index(drop=True)\n",
    "review"
   ]
  },
  {
   "cell_type": "code",
   "execution_count": 76,
   "metadata": {},
   "outputs": [],
   "source": [
    "review.to_csv(\"review_final_preprocessed.csv\", index=False)"
   ]
  },
  {
   "cell_type": "code",
   "execution_count": 3,
   "metadata": {},
   "outputs": [
    {
     "data": {
      "text/html": [
       "<div>\n",
       "<style scoped>\n",
       "    .dataframe tbody tr th:only-of-type {\n",
       "        vertical-align: middle;\n",
       "    }\n",
       "\n",
       "    .dataframe tbody tr th {\n",
       "        vertical-align: top;\n",
       "    }\n",
       "\n",
       "    .dataframe thead th {\n",
       "        text-align: right;\n",
       "    }\n",
       "</style>\n",
       "<table border=\"1\" class=\"dataframe\">\n",
       "  <thead>\n",
       "    <tr style=\"text-align: right;\">\n",
       "      <th></th>\n",
       "      <th>SentimentText</th>\n",
       "      <th>SentimentPolarity</th>\n",
       "    </tr>\n",
       "  </thead>\n",
       "  <tbody>\n",
       "    <tr>\n",
       "      <th>0</th>\n",
       "      <td>유통기한도 넉넉하고</td>\n",
       "      <td>1</td>\n",
       "    </tr>\n",
       "    <tr>\n",
       "      <th>1</th>\n",
       "      <td>구성도 많아서 선물 하기 좋네요.</td>\n",
       "      <td>1</td>\n",
       "    </tr>\n",
       "    <tr>\n",
       "      <th>2</th>\n",
       "      <td>구성도알차고</td>\n",
       "      <td>1</td>\n",
       "    </tr>\n",
       "    <tr>\n",
       "      <th>3</th>\n",
       "      <td>촉촉하고너무좋아용</td>\n",
       "      <td>1</td>\n",
       "    </tr>\n",
       "    <tr>\n",
       "      <th>4</th>\n",
       "      <td>대용량으로 넉넉하게 사용할 수 있고</td>\n",
       "      <td>1</td>\n",
       "    </tr>\n",
       "    <tr>\n",
       "      <th>...</th>\n",
       "      <td>...</td>\n",
       "      <td>...</td>\n",
       "    </tr>\n",
       "    <tr>\n",
       "      <th>51509</th>\n",
       "      <td>순하고</td>\n",
       "      <td>1</td>\n",
       "    </tr>\n",
       "    <tr>\n",
       "      <th>51510</th>\n",
       "      <td>번들거리는 게 없어 좋습니다.</td>\n",
       "      <td>1</td>\n",
       "    </tr>\n",
       "    <tr>\n",
       "      <th>51511</th>\n",
       "      <td>저렴하게 구매했네요.</td>\n",
       "      <td>1</td>\n",
       "    </tr>\n",
       "    <tr>\n",
       "      <th>51512</th>\n",
       "      <td>발림도 좋고</td>\n",
       "      <td>1</td>\n",
       "    </tr>\n",
       "    <tr>\n",
       "      <th>51513</th>\n",
       "      <td>피부가 쫀득쫀득해지는거 같습니다.</td>\n",
       "      <td>1</td>\n",
       "    </tr>\n",
       "  </tbody>\n",
       "</table>\n",
       "<p>51514 rows × 2 columns</p>\n",
       "</div>"
      ],
      "text/plain": [
       "             SentimentText  SentimentPolarity\n",
       "0               유통기한도 넉넉하고                  1\n",
       "1       구성도 많아서 선물 하기 좋네요.                  1\n",
       "2                   구성도알차고                  1\n",
       "3                촉촉하고너무좋아용                  1\n",
       "4      대용량으로 넉넉하게 사용할 수 있고                  1\n",
       "...                    ...                ...\n",
       "51509                  순하고                  1\n",
       "51510     번들거리는 게 없어 좋습니다.                  1\n",
       "51511          저렴하게 구매했네요.                  1\n",
       "51512               발림도 좋고                  1\n",
       "51513   피부가 쫀득쫀득해지는거 같습니다.                  1\n",
       "\n",
       "[51514 rows x 2 columns]"
      ]
     },
     "execution_count": 3,
     "metadata": {},
     "output_type": "execute_result"
    }
   ],
   "source": [
    "ai_hub = pd.read_csv('../ai_hub_data.csv', encoding='UTF-8')\n",
    "ai_hub"
   ]
  },
  {
   "cell_type": "code",
   "execution_count": 4,
   "metadata": {},
   "outputs": [
    {
     "name": "stderr",
     "output_type": "stream",
     "text": [
      "C:\\Users\\Joy\\anaconda3\\lib\\site-packages\\ipykernel_launcher.py:1: FutureWarning: The default value of regex will change from True to False in a future version. In addition, single character regular expressions will*not* be treated as literal strings when regex=True.\n",
      "  \"\"\"Entry point for launching an IPython kernel.\n"
     ]
    },
    {
     "data": {
      "text/html": [
       "<div>\n",
       "<style scoped>\n",
       "    .dataframe tbody tr th:only-of-type {\n",
       "        vertical-align: middle;\n",
       "    }\n",
       "\n",
       "    .dataframe tbody tr th {\n",
       "        vertical-align: top;\n",
       "    }\n",
       "\n",
       "    .dataframe thead th {\n",
       "        text-align: right;\n",
       "    }\n",
       "</style>\n",
       "<table border=\"1\" class=\"dataframe\">\n",
       "  <thead>\n",
       "    <tr style=\"text-align: right;\">\n",
       "      <th></th>\n",
       "      <th>SentimentText</th>\n",
       "      <th>SentimentPolarity</th>\n",
       "    </tr>\n",
       "  </thead>\n",
       "  <tbody>\n",
       "    <tr>\n",
       "      <th>0</th>\n",
       "      <td>유통기한도 넉넉하고</td>\n",
       "      <td>1</td>\n",
       "    </tr>\n",
       "    <tr>\n",
       "      <th>1</th>\n",
       "      <td>구성도 많아서 선물 하기 좋네요</td>\n",
       "      <td>1</td>\n",
       "    </tr>\n",
       "    <tr>\n",
       "      <th>2</th>\n",
       "      <td>구성도알차고</td>\n",
       "      <td>1</td>\n",
       "    </tr>\n",
       "    <tr>\n",
       "      <th>3</th>\n",
       "      <td>촉촉하고너무좋아용</td>\n",
       "      <td>1</td>\n",
       "    </tr>\n",
       "    <tr>\n",
       "      <th>4</th>\n",
       "      <td>대용량으로 넉넉하게 사용할 수 있고</td>\n",
       "      <td>1</td>\n",
       "    </tr>\n",
       "    <tr>\n",
       "      <th>...</th>\n",
       "      <td>...</td>\n",
       "      <td>...</td>\n",
       "    </tr>\n",
       "    <tr>\n",
       "      <th>51509</th>\n",
       "      <td>순하고</td>\n",
       "      <td>1</td>\n",
       "    </tr>\n",
       "    <tr>\n",
       "      <th>51510</th>\n",
       "      <td>번들거리는 게 없어 좋습니다</td>\n",
       "      <td>1</td>\n",
       "    </tr>\n",
       "    <tr>\n",
       "      <th>51511</th>\n",
       "      <td>저렴하게 구매했네요</td>\n",
       "      <td>1</td>\n",
       "    </tr>\n",
       "    <tr>\n",
       "      <th>51512</th>\n",
       "      <td>발림도 좋고</td>\n",
       "      <td>1</td>\n",
       "    </tr>\n",
       "    <tr>\n",
       "      <th>51513</th>\n",
       "      <td>피부가 쫀득쫀득해지는거 같습니다</td>\n",
       "      <td>1</td>\n",
       "    </tr>\n",
       "  </tbody>\n",
       "</table>\n",
       "<p>51514 rows × 2 columns</p>\n",
       "</div>"
      ],
      "text/plain": [
       "             SentimentText  SentimentPolarity\n",
       "0               유통기한도 넉넉하고                  1\n",
       "1        구성도 많아서 선물 하기 좋네요                  1\n",
       "2                   구성도알차고                  1\n",
       "3                촉촉하고너무좋아용                  1\n",
       "4      대용량으로 넉넉하게 사용할 수 있고                  1\n",
       "...                    ...                ...\n",
       "51509                  순하고                  1\n",
       "51510      번들거리는 게 없어 좋습니다                  1\n",
       "51511           저렴하게 구매했네요                  1\n",
       "51512               발림도 좋고                  1\n",
       "51513    피부가 쫀득쫀득해지는거 같습니다                  1\n",
       "\n",
       "[51514 rows x 2 columns]"
      ]
     },
     "execution_count": 4,
     "metadata": {},
     "output_type": "execute_result"
    }
   ],
   "source": [
    "ai_hub[\"SentimentText\"] = ai_hub[\"SentimentText\"].str.replace('.', '')\n",
    "ai_hub"
   ]
  },
  {
   "cell_type": "markdown",
   "metadata": {},
   "source": [
    "##### 데이터 불균형 해결"
   ]
  },
  {
   "cell_type": "code",
   "execution_count": 5,
   "metadata": {},
   "outputs": [],
   "source": [
    "# 언더 샘플링\n",
    "under_sample = RandomUnderSampler(sampling_strategy={0:3830, -1:10000, 1:10000})\n",
    "x_random, y_random = under_sample.fit_resample(ai_hub[['SentimentText']], ai_hub['SentimentPolarity'])"
   ]
  },
  {
   "cell_type": "code",
   "execution_count": 110,
   "metadata": {},
   "outputs": [],
   "source": [
    "x_random.to_csv(\"x_random.csv\", index=False)\n",
    "y_random.to_csv(\"y_random.csv\", index=False)"
   ]
  },
  {
   "cell_type": "code",
   "execution_count": 107,
   "metadata": {},
   "outputs": [
    {
     "name": "stdout",
     "output_type": "stream",
     "text": [
      "Class=-1, n=10000 (41.964%)\n",
      "Class=0, n=3830 (16.072%)\n",
      "Class=1, n=10000 (41.964%)\n"
     ]
    },
    {
     "data": {
      "image/png": "[encoded data removed]",
      "text/plain": [
       "<Figure size 432x288 with 1 Axes>"
      ]
     },
     "metadata": {
      "needs_background": "light"
     },
     "output_type": "display_data"
    }
   ],
   "source": [
    "count_and_plot(y_random)"
   ]
  },
  {
   "cell_type": "code",
   "execution_count": 108,
   "metadata": {},
   "outputs": [
    {
     "data": {
      "text/plain": [
       "(23830, 16342)"
      ]
     },
     "execution_count": 108,
     "metadata": {},
     "output_type": "execute_result"
    }
   ],
   "source": [
    "tf_idf_vec = TfidfVectorizer(stop_words=\"english\", min_df=1).fit(x_random[\"SentimentText\"])\n",
    "tf_idf = tf_idf_vec.transform(x_random[\"SentimentText\"]).toarray()\n",
    "\n",
    "tf_idf.shape"
   ]
  },
  {
   "cell_type": "code",
   "execution_count": 8,
   "metadata": {},
   "outputs": [],
   "source": [
    "over_sample = SMOTE()\n",
    "x_smote, y_smote = over_sample.fit_resample(pd.DataFrame(tf_idf), y_random)"
   ]
  },
  {
   "cell_type": "code",
   "execution_count": 9,
   "metadata": {},
   "outputs": [
    {
     "name": "stdout",
     "output_type": "stream",
     "text": [
      "Class=-1, n=10000 (33.333%)\n",
      "Class=0, n=10000 (33.333%)\n",
      "Class=1, n=10000 (33.333%)\n"
     ]
    },
    {
     "data": {
      "image/png": "[encoded data removed]",
      "text/plain": [
       "<Figure size 432x288 with 1 Axes>"
      ]
     },
     "metadata": {
      "needs_background": "light"
     },
     "output_type": "display_data"
    }
   ],
   "source": [
    "count_and_plot(y_smote)"
   ]
  },
  {
   "cell_type": "code",
   "execution_count": 31,
   "metadata": {},
   "outputs": [
    {
     "name": "stdout",
     "output_type": "stream",
     "text": [
      "훈련 데이터 수: 24000\n",
      "테스트 데이터 수: 6000\n"
     ]
    }
   ],
   "source": [
    "x_train, x_test, y_train, y_test = train_test_split(x_smote, y_smote, test_size=0.2, random_state=42)\n",
    "\n",
    "print(f\"훈련 데이터 수: {len(x_train)}\")\n",
    "print(f\"테스트 데이터 수: {len(x_test)}\")"
   ]
  },
  {
   "cell_type": "markdown",
   "metadata": {},
   "source": [
    "### Logistic Regression"
   ]
  },
  {
   "cell_type": "code",
   "execution_count": 32,
   "metadata": {},
   "outputs": [
    {
     "name": "stderr",
     "output_type": "stream",
     "text": [
      "C:\\Users\\Joy\\anaconda3\\lib\\site-packages\\sklearn\\linear_model\\_logistic.py:765: ConvergenceWarning: lbfgs failed to converge (status=1):\n",
      "STOP: TOTAL NO. of ITERATIONS REACHED LIMIT.\n",
      "\n",
      "Increase the number of iterations (max_iter) or scale the data as shown in:\n",
      "    https://scikit-learn.org/stable/modules/preprocessing.html\n",
      "Please also refer to the documentation for alternative solver options:\n",
      "    https://scikit-learn.org/stable/modules/linear_model.html#logistic-regression\n",
      "  extra_warning_msg=_LOGISTIC_SOLVER_CONVERGENCE_MSG)\n"
     ]
    },
    {
     "name": "stdout",
     "output_type": "stream",
     "text": [
      "예측 정확도: 0.8795\n",
      "              precision    recall  f1-score   support\n",
      "\n",
      "          -1       0.87      0.83      0.85      2002\n",
      "           0       0.92      0.94      0.93      2022\n",
      "           1       0.85      0.87      0.86      1976\n",
      "\n",
      "    accuracy                           0.88      6000\n",
      "   macro avg       0.88      0.88      0.88      6000\n",
      "weighted avg       0.88      0.88      0.88      6000\n",
      "\n"
     ]
    }
   ],
   "source": [
    "model = LogisticRegression(C=10)\n",
    "model.fit(x_train, y_train)\n",
    "\n",
    "pred = model.predict(x_test)\n",
    "acc_lr = accuracy_score(y_test, pred)\n",
    "report = classification_report(y_test, pred)\n",
    "\n",
    "print(f\"예측 정확도: {acc_lr:.4f}\")\n",
    "print(report)"
   ]
  },
  {
   "cell_type": "code",
   "execution_count": 34,
   "metadata": {},
   "outputs": [
    {
     "data": {
      "text/plain": [
       "-1"
      ]
     },
     "execution_count": 34,
     "metadata": {},
     "output_type": "execute_result"
    }
   ],
   "source": [
    "def predict_sentiment(sentence):\n",
    "    vector = tf_idf_vec.transform([sentence]).toarray()\n",
    "    prediction = model.predict(vector)[0]\n",
    "    return prediction\n",
    "\n",
    "sentence = \"보습은 별로\"\n",
    "predict_sentiment(sentence)"
   ]
  },
  {
   "cell_type": "markdown",
   "metadata": {},
   "source": [
    "### PCA"
   ]
  },
  {
   "cell_type": "code",
   "execution_count": 10,
   "metadata": {},
   "outputs": [],
   "source": [
    "from sklearn.decomposition import PCA"
   ]
  },
  {
   "cell_type": "code",
   "execution_count": 18,
   "metadata": {},
   "outputs": [],
   "source": [
    "from sklearn.decomposition import PCA\n",
    "\n",
    "pca = PCA(n_components=5000, random_state=42)\n",
    "pca.fit(x_smote)\n",
    "tf_reduced = pca.transform(x_smote)"
   ]
  },
  {
   "cell_type": "code",
   "execution_count": 101,
   "metadata": {},
   "outputs": [
    {
     "name": "stdout",
     "output_type": "stream",
     "text": [
      "0.8724103688302906\n"
     ]
    },
    {
     "data": {
      "image/png": "[encoded data removed]",
      "text/plain": [
       "<Figure size 432x288 with 1 Axes>"
      ]
     },
     "metadata": {
      "needs_background": "light"
     },
     "output_type": "display_data"
    }
   ],
   "source": [
    "from matplotlib import pyplot as plt\n",
    "\n",
    "def scree_plot(pca):\n",
    "    ratio = pca.explained_variance_ratio_\n",
    "    print(ratio.sum())\n",
    "    num_components = len(ratio)\n",
    "    ind = np.arange(num_components)\n",
    "    vals = ratio\n",
    "    \n",
    "    ax = plt.subplot()\n",
    "    cumvals = np.cumsum(vals)\n",
    "    ax.bar(ind, vals, color = ['#00da75', '#f1c40f',  '#ff6f15', '#3498db']) # Bar plot\n",
    "    \n",
    "\n",
    "    ax.set_xlabel(\"PC\")\n",
    "    ax.set_ylabel(\"Variance\")\n",
    "    plt.title('Scree plot')\n",
    "    plt.ylim([0,0.006])\n",
    "    \n",
    "scree_plot(pca)"
   ]
  },
  {
   "cell_type": "code",
   "execution_count": 35,
   "metadata": {},
   "outputs": [
    {
     "name": "stdout",
     "output_type": "stream",
     "text": [
      "훈련 데이터 수: 24000\n",
      "테스트 데이터 수: 6000\n"
     ]
    }
   ],
   "source": [
    "x_train_reduced, x_test_reduced, y_train_reduced, y_test_reduced = train_test_split(pd.DataFrame(tf_reduced), y_smote, test_size=0.2, random_state=42)\n",
    "\n",
    "print(f\"훈련 데이터 수: {len(x_train)}\")\n",
    "print(f\"테스트 데이터 수: {len(x_test)}\")"
   ]
  },
  {
   "cell_type": "code",
   "execution_count": 36,
   "metadata": {},
   "outputs": [
    {
     "name": "stderr",
     "output_type": "stream",
     "text": [
      "C:\\Users\\Joy\\anaconda3\\lib\\site-packages\\sklearn\\linear_model\\_logistic.py:765: ConvergenceWarning: lbfgs failed to converge (status=1):\n",
      "STOP: TOTAL NO. of ITERATIONS REACHED LIMIT.\n",
      "\n",
      "Increase the number of iterations (max_iter) or scale the data as shown in:\n",
      "    https://scikit-learn.org/stable/modules/preprocessing.html\n",
      "Please also refer to the documentation for alternative solver options:\n",
      "    https://scikit-learn.org/stable/modules/linear_model.html#logistic-regression\n",
      "  extra_warning_msg=_LOGISTIC_SOLVER_CONVERGENCE_MSG)\n"
     ]
    },
    {
     "name": "stdout",
     "output_type": "stream",
     "text": [
      "예측 정확도: 0.8698\n",
      "              precision    recall  f1-score   support\n",
      "\n",
      "          -1       0.84      0.83      0.84      2002\n",
      "           0       0.92      0.93      0.93      2022\n",
      "           1       0.84      0.85      0.84      1976\n",
      "\n",
      "    accuracy                           0.87      6000\n",
      "   macro avg       0.87      0.87      0.87      6000\n",
      "weighted avg       0.87      0.87      0.87      6000\n",
      "\n"
     ]
    }
   ],
   "source": [
    "model_pca = LogisticRegression(C=10)\n",
    "model_pca.fit(x_train_reduced, y_train_reduced)\n",
    "\n",
    "pred = model_pca.predict(x_test_reduced)\n",
    "acc_lr = accuracy_score(y_test_reduced, pred)\n",
    "report = classification_report(y_test_reduced, pred)\n",
    "\n",
    "print(f\"예측 정확도: {acc_lr:.4f}\")\n",
    "print(report)"
   ]
  },
  {
   "cell_type": "code",
   "execution_count": 103,
   "metadata": {},
   "outputs": [
    {
     "data": {
      "text/plain": [
       "-1"
      ]
     },
     "execution_count": 103,
     "metadata": {},
     "output_type": "execute_result"
    }
   ],
   "source": [
    "def predict_sentiment_pca(sentence):\n",
    "    vector = tf_idf_vec.transform([sentence]).toarray()\n",
    "    vector = pca.transform(pd.DataFrame(vector))\n",
    "    prediction = model_pca.predict(vector)[0]\n",
    "    return prediction\n",
    "\n",
    "sentence = \"보습은 그냥 그래요\"\n",
    "predict_sentiment_pca(sentence)"
   ]
  },
  {
   "cell_type": "code",
   "execution_count": 104,
   "metadata": {},
   "outputs": [
    {
     "data": {
      "text/plain": [
       "TfidfVectorizer(stop_words='english')"
      ]
     },
     "execution_count": 104,
     "metadata": {},
     "output_type": "execute_result"
    }
   ],
   "source": []
  },
  {
   "cell_type": "code",
   "execution_count": 102,
   "metadata": {},
   "outputs": [
    {
     "data": {
      "text/plain": [
       "['./model/model_pca_5000.pk1']"
      ]
     },
     "execution_count": 102,
     "metadata": {},
     "output_type": "execute_result"
    }
   ],
   "source": [
    "import joblib\n",
    "joblib.dump(model, './model/model.pk1')\n",
    "joblib.dump(model_pca, './model/model_pca_5000.pk1')"
   ]
  },
  {
   "cell_type": "code",
   "execution_count": 42,
   "metadata": {},
   "outputs": [
    {
     "data": {
      "text/plain": [
       "['./model/tf_idf_vec.pk1']"
      ]
     },
     "execution_count": 42,
     "metadata": {},
     "output_type": "execute_result"
    }
   ],
   "source": [
    "joblib.dump(tf_idf_vec, './model/tf_idf_vec.pk1')"
   ]
  },
  {
   "cell_type": "code",
   "execution_count": 98,
   "metadata": {},
   "outputs": [
    {
     "data": {
      "text/plain": [
       "['./model/pca_5000.pk1']"
      ]
     },
     "execution_count": 98,
     "metadata": {},
     "output_type": "execute_result"
    }
   ],
   "source": [
    "joblib.dump(pca, './model/pca_5000.pk1')"
   ]
  },
  {
   "cell_type": "markdown",
   "metadata": {},
   "source": [
    "#### PCA 비교"
   ]
  },
  {
   "cell_type": "code",
   "execution_count": null,
   "metadata": {
    "scrolled": true
   },
   "outputs": [],
   "source": [
    "pca_test = PCA(n_components=2500, random_state=42)\n",
    "pca_test.fit(x_smote)\n",
    "tf_reduced_test = pca_test.transform(x_smote)\n",
    "\n",
    "x_train_reduced_t, x_test_reduced_t, y_train_reduced_t, y_test_reduced_t = train_test_split(pd.DataFrame(tf_reduced_test), y_smote, test_size=0.2, random_state=42)\n",
    "\n",
    "\n",
    "model_pca_test = LogisticRegression(C=10)\n",
    "model_pca_test.fit(x_train_reduced_t, y_train_reduced_t)"
   ]
  },
  {
   "cell_type": "code",
   "execution_count": 100,
   "metadata": {},
   "outputs": [
    {
     "name": "stdout",
     "output_type": "stream",
     "text": [
      "0.7634603363030315\n"
     ]
    },
    {
     "data": {
      "image/png": "[encoded data removed]",
      "text/plain": [
       "<Figure size 432x288 with 1 Axes>"
      ]
     },
     "metadata": {
      "needs_background": "light"
     },
     "output_type": "display_data"
    }
   ],
   "source": [
    "def scree_plot(pca):\n",
    "    ratio = pca_test.explained_variance_ratio_\n",
    "    print(ratio.sum())\n",
    "    num_components = len(ratio)\n",
    "    ind = np.arange(num_components)\n",
    "    vals = ratio\n",
    "    \n",
    "    ax = plt.subplot()\n",
    "    cumvals = np.cumsum(vals)\n",
    "    ax.bar(ind, vals, color = ['#00da75', '#f1c40f',  '#ff6f15', '#3498db']) # Bar plot\n",
    "    \n",
    "\n",
    "    ax.set_xlabel(\"PC\")\n",
    "    ax.set_ylabel(\"Variance\")\n",
    "    plt.title('Scree plot')\n",
    "    plt.ylim([0,0.006])\n",
    "    \n",
    "scree_plot(pca)"
   ]
  },
  {
   "cell_type": "code",
   "execution_count": 94,
   "metadata": {},
   "outputs": [
    {
     "name": "stdout",
     "output_type": "stream",
     "text": [
      "예측 정확도: 0.8650\n",
      "              precision    recall  f1-score   support\n",
      "\n",
      "          -1       0.85      0.81      0.83      2002\n",
      "           0       0.91      0.91      0.91      2022\n",
      "           1       0.83      0.87      0.85      1976\n",
      "\n",
      "    accuracy                           0.86      6000\n",
      "   macro avg       0.87      0.86      0.86      6000\n",
      "weighted avg       0.87      0.86      0.86      6000\n",
      "\n"
     ]
    }
   ],
   "source": [
    "pred = model_pca_test.predict(x_test_reduced_t)\n",
    "acc_lr = accuracy_score(y_test_reduced_t, pred)\n",
    "report = classification_report(y_test_reduced_t, pred)\n",
    "\n",
    "print(f\"예측 정확도: {acc_lr:.4f}\")\n",
    "print(report)"
   ]
  },
  {
   "cell_type": "code",
   "execution_count": 96,
   "metadata": {},
   "outputs": [
    {
     "data": {
      "text/plain": [
       "['./model/model_pca_2500.pk1']"
      ]
     },
     "execution_count": 96,
     "metadata": {},
     "output_type": "execute_result"
    }
   ],
   "source": [
    "joblib.dump(model_pca_test, './model/model_pca_2500.pk1')"
   ]
  },
  {
   "cell_type": "code",
   "execution_count": 99,
   "metadata": {},
   "outputs": [
    {
     "data": {
      "text/plain": [
       "['./model/pca_2500.pk1']"
      ]
     },
     "execution_count": 99,
     "metadata": {},
     "output_type": "execute_result"
    }
   ],
   "source": [
    "joblib.dump(pca_test, './model/pca_2500.pk1')"
   ]
  },
  {
   "cell_type": "code",
   "execution_count": null,
   "metadata": {},
   "outputs": [],
   "source": []
  }
 ],
 "metadata": {
  "kernelspec": {
   "display_name": "Python 3",
   "language": "python",
   "name": "python3"
  },
  "language_info": {
   "codemirror_mode": {
    "name": "ipython",
    "version": 3
   },
   "file_extension": ".py",
   "mimetype": "text/x-python",
   "name": "python",
   "nbconvert_exporter": "python",
   "pygments_lexer": "ipython3",
   "version": "3.7.6"
  }
 },
 "nbformat": 4,
 "nbformat_minor": 4
}
